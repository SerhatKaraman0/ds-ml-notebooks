{
 "cells": [
  {
   "cell_type": "code",
   "execution_count": 2,
   "id": "ebd2694c",
   "metadata": {},
   "outputs": [],
   "source": [
    "import pandas as pd\n",
    "import numpy as np\n",
    "import seaborn as sns\n",
    "import matplotlib.pyplot as plt\n",
    "import os \n",
    "\n",
    "BASE_DIR = \"/Users/user/Desktop/Projects/data-science/ml-data\"\n",
    "FILE_DIR = \"\"\n",
    "\n",
    "path = os.path.join(BASE_DIR, FILE_DIR)\n",
    "\n",
    "# df = pd.read_csv(path)\n",
    "\n",
    "%matplotlib inline "
   ]
  },
  {
   "cell_type": "markdown",
   "id": "453515d6",
   "metadata": {},
   "source": [
    "# Ridge Regression (L2 Regularization)\n",
    "- Overfitting'i azaltır / önler.\n",
    "- Outlier değerlere karşı dayanıklı\n",
    "- Featureların çıktı üzerindeki etkisi azsa, bu etkileri bastırır.\n",
    "- Multi Linear Regression da korelasyon sorunlarını azaltır "
   ]
  },
  {
   "cell_type": "markdown",
   "id": "b6cd9aed",
   "metadata": {},
   "source": [
    "# Lasso Regression (L1 Regularization)\n",
    "- Modeli daha sade açıklayıcı bir hale getirmek için kullanılabilir.\n",
    "- Bazı değişkenlerin anlamsız olabileceği düşünülürse \n",
    "- Modelin tahmin performansı ve yorumlanabilirliği artırılmak istenirse.\n",
    "- Underfitting e sebebiyet verebilir."
   ]
  },
  {
   "cell_type": "markdown",
   "id": "8cfd5d38",
   "metadata": {},
   "source": [
    "# Elastic Net \n",
    "- L1 + L2 \n",
    "- Overfitting i azaltıp gereksiz özellikleri sıfırlayabilir."
   ]
  },
  {
   "cell_type": "markdown",
   "id": "b858cacc",
   "metadata": {},
   "source": [
    "# Cross Validation\n",
    "- "
   ]
  },
  {
   "cell_type": "code",
   "execution_count": null,
   "id": "fd48f8a7",
   "metadata": {},
   "outputs": [],
   "source": []
  }
 ],
 "metadata": {
  "kernelspec": {
   "display_name": "venv",
   "language": "python",
   "name": "python3"
  },
  "language_info": {
   "codemirror_mode": {
    "name": "ipython",
    "version": 3
   },
   "file_extension": ".py",
   "mimetype": "text/x-python",
   "name": "python",
   "nbconvert_exporter": "python",
   "pygments_lexer": "ipython3",
   "version": "3.11.9"
  }
 },
 "nbformat": 4,
 "nbformat_minor": 5
}
