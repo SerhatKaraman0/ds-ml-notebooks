{
 "cells": [
  {
   "cell_type": "markdown",
   "id": "819bac30",
   "metadata": {},
   "source": [
    "# Box Cox Yeo Johnson Tranformations \n",
    "## Transformations \n",
    "- Çarpık dağılımları daha normal dağılımlara yaklaştırmak için transformation kullanılır\n",
    "- Regresyon problemlerinde hataların normal dağılmasını sağlar \n",
    "\n",
    "- Tüm değerler pozitifse Box Cox \n",
    "- Tüm reel değerler için Yeo Johnson kullanılabilir."
   ]
  },
  {
   "cell_type": "code",
   "execution_count": null,
   "id": "a44b6072",
   "metadata": {},
   "outputs": [],
   "source": [
    "import pandas as pd\n",
    "import numpy as np\n",
    "import seaborn as sns\n",
    "import matplotlib.pyplot as plt \n",
    "import sys \n",
    "import warnings \n",
    "\n",
    "%matplotlib inline\n",
    "sys.path.append('/Users/user/Desktop/Projects/data-science/utils')\n",
    "warnings.filterwarnings(action=\"ignore\")\n"
   ]
  },
  {
   "cell_type": "code",
   "execution_count": null,
   "id": "2e6dceba",
   "metadata": {},
   "outputs": [],
   "source": [
    "from SetupDataFrame import SetupDataFrame\n",
    "from AnalyzeDataFrame import AnalyzeDataFrame\n",
    "from VisualizeDataFrame import VisualizeDataFrame\n",
    "from EvalModel import EvalModel\n",
    "from HyperParameterTuning import HyperParameterTuning\n",
    "from PreprocessDataFrame import PreprocessDataFrame"
   ]
  },
  {
   "cell_type": "code",
   "execution_count": null,
   "id": "cf842b5a",
   "metadata": {},
   "outputs": [],
   "source": [
    "setup_df         =   SetupDataFrame()\n",
    "analyze_df       =   AnalyzeDataFrame()\n",
    "visualize_df     =   VisualizeDataFrame()\n",
    "eval_model       =   EvalModel()\n",
    "hp_tuning_model  =   HyperParameterTuning()\n",
    "preprocess_model =   PreprocessDataFrame()"
   ]
  },
  {
   "cell_type": "code",
   "execution_count": null,
   "id": "862d1097",
   "metadata": {},
   "outputs": [],
   "source": [
    "df = setup_df.setup_ml(\"20-digitalskysurvey.csv\")"
   ]
  },
  {
   "cell_type": "code",
   "execution_count": 1,
   "id": "eec547dd",
   "metadata": {},
   "outputs": [],
   "source": [
    "from sklearn.preprocessing import PowerTransformer\n",
    "\n",
    "pt_X = PowerTransformer(method=\"yeo-johnson\") # like scaler do fit transform to X values "
   ]
  },
  {
   "cell_type": "code",
   "execution_count": null,
   "id": "14721c1c",
   "metadata": {},
   "outputs": [],
   "source": []
  }
 ],
 "metadata": {
  "kernelspec": {
   "display_name": "venv",
   "language": "python",
   "name": "python3"
  },
  "language_info": {
   "codemirror_mode": {
    "name": "ipython",
    "version": 3
   },
   "file_extension": ".py",
   "mimetype": "text/x-python",
   "name": "python",
   "nbconvert_exporter": "python",
   "pygments_lexer": "ipython3",
   "version": "3.11.9"
  }
 },
 "nbformat": 4,
 "nbformat_minor": 5
}
