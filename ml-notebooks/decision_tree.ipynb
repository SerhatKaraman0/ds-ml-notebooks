{
 "cells": [
  {
   "cell_type": "markdown",
   "id": "b1d2f759",
   "metadata": {},
   "source": [
    "# Decision Trees\n",
    "- Main Goal is to split the dataset such that subsets are homogeneously distributed \n",
    "- Entropy -> Low Entropy = more pure subset\n",
    "- Gini Impurity -> Probablity of a randomly chosen sample to be falsely classified \n",
    "## Pruning \n",
    "- Main Goal -> overfitting'i engellemek \n"
   ]
  },
  {
   "cell_type": "code",
   "execution_count": 8,
   "id": "556c6c76",
   "metadata": {},
   "outputs": [],
   "source": [
    "import pandas as pd\n",
    "import numpy as np\n",
    "import seaborn as sns\n",
    "import matplotlib.pyplot as plt \n",
    "import sys \n",
    "\n",
    "%matplotlib inline\n",
    "sys.path.append('/Users/user/Desktop/Projects/data-science/utils')\n"
   ]
  },
  {
   "cell_type": "code",
   "execution_count": 9,
   "id": "1ddf55fd",
   "metadata": {},
   "outputs": [],
   "source": [
    "from SetupDataFrame import SetupDataFrame\n",
    "from AnalyzeDataFrame import AnalyzeDataFrame\n",
    "from VisualizeDataFrame import VisualizeDataFrame\n",
    "from EvalModel import EvalModel\n",
    "from HyperParameterTuning import HyperParameterTuning"
   ]
  },
  {
   "cell_type": "code",
   "execution_count": 10,
   "id": "33cdfebc",
   "metadata": {},
   "outputs": [],
   "source": [
    "setup_df        =   SetupDataFrame()\n",
    "analyze_df      =   AnalyzeDataFrame()\n",
    "visualize_df    =   VisualizeDataFrame()\n",
    "eval_model      =   EvalModel()\n",
    "hp_tuning_model =   HyperParameterTuning()"
   ]
  },
  {
   "cell_type": "code",
   "execution_count": 11,
   "id": "63d38d3f",
   "metadata": {},
   "outputs": [],
   "source": [
    "df = setup_df.setup_ml(\"13-car_evaluation.csv\")"
   ]
  },
  {
   "cell_type": "code",
   "execution_count": 13,
   "id": "19736538",
   "metadata": {},
   "outputs": [
    {
     "name": "stdout",
     "output_type": "stream",
     "text": [
      "**************************************** COLUMNS *****************************************\n",
      "Index(['vhigh', 'vhigh.1', '2', '2.1', 'small', 'low', 'unacc'], dtype='object')\n",
      "***************************** First 5 Data in the Dataframe ******************************\n",
      "   vhigh vhigh.1  2 2.1  small   low  unacc\n",
      "0  vhigh   vhigh  2   2  small   med  unacc\n",
      "1  vhigh   vhigh  2   2  small  high  unacc\n",
      "2  vhigh   vhigh  2   2    med   low  unacc\n",
      "3  vhigh   vhigh  2   2    med   med  unacc\n",
      "4  vhigh   vhigh  2   2    med  high  unacc\n",
      "**************************************** DF INFO *****************************************\n",
      "<class 'pandas.core.frame.DataFrame'>\n",
      "RangeIndex: 1727 entries, 0 to 1726\n",
      "Data columns (total 7 columns):\n",
      " #   Column   Non-Null Count  Dtype \n",
      "---  ------   --------------  ----- \n",
      " 0   vhigh    1727 non-null   object\n",
      " 1   vhigh.1  1727 non-null   object\n",
      " 2   2        1727 non-null   object\n",
      " 3   2.1      1727 non-null   object\n",
      " 4   small    1727 non-null   object\n",
      " 5   low      1727 non-null   object\n",
      " 6   unacc    1727 non-null   object\n",
      "dtypes: object(7)\n",
      "memory usage: 94.6+ KB\n",
      "None\n",
      "************************************** DF DESCRIBE ***************************************\n",
      "       vhigh vhigh.1     2   2.1 small   low  unacc\n",
      "count   1727    1727  1727  1727  1727  1727   1727\n",
      "unique     4       4     4     3     3     3      4\n",
      "top     high    high     3     4   med   med  unacc\n",
      "freq     432     432   432   576   576   576   1209\n",
      "*************************************** NULL COUNT ***************************************\n",
      "vhigh      0\n",
      "vhigh.1    0\n",
      "2          0\n",
      "2.1        0\n",
      "small      0\n",
      "low        0\n",
      "unacc      0\n",
      "dtype: int64\n",
      "**************************************** DF SHAPE ****************************************\n",
      "(1727, 7)\n",
      "************************************* DF DUPLICATES **************************************\n",
      "0\n",
      "************************************ DF UNIQUE VALUES ************************************\n",
      "vhigh      4\n",
      "vhigh.1    4\n",
      "2          4\n",
      "2.1        3\n",
      "small      3\n",
      "low        3\n",
      "unacc      4\n",
      "dtype: int64\n",
      "************************************ DF VALUE COUNTS *************************************\n",
      "vhigh  vhigh.1  2      2.1   small  low   unacc\n",
      "high   high     2      2     big    high  unacc    1\n",
      "med    med      4      more  small  med   acc      1\n",
      "                                    high  acc      1\n",
      "                             med    med   acc      1\n",
      "                                    low   unacc    1\n",
      "                                                  ..\n",
      "low    low      3      2     med    med   unacc    1\n",
      "                                    low   unacc    1\n",
      "                                    high  unacc    1\n",
      "                             big    med   unacc    1\n",
      "vhigh  vhigh    5more  more  small  med   unacc    1\n",
      "Name: count, Length: 1727, dtype: int64\n",
      "******************************* UNIQUE VALUES EACH COLUMN ********************************\n",
      "***************************** UNIQUE VALUES IN COLUMN vhigh ******************************\n",
      "['vhigh' 'high' 'med' 'low']\n",
      "**************************** UNIQUE VALUES IN COLUMN vhigh.1 *****************************\n",
      "['vhigh' 'high' 'med' 'low']\n",
      "******************************* UNIQUE VALUES IN COLUMN 2 ********************************\n",
      "['2' '3' '4' '5more']\n",
      "****************************** UNIQUE VALUES IN COLUMN 2.1 *******************************\n",
      "['2' '4' 'more']\n",
      "***************************** UNIQUE VALUES IN COLUMN small ******************************\n",
      "['small' 'med' 'big']\n",
      "****************************** UNIQUE VALUES IN COLUMN low *******************************\n",
      "['med' 'high' 'low']\n",
      "***************************** UNIQUE VALUES IN COLUMN unacc ******************************\n",
      "['unacc' 'acc' 'vgood' 'good']\n"
     ]
    }
   ],
   "source": [
    "analyze_df.analyze_df(df)"
   ]
  },
  {
   "cell_type": "code",
   "execution_count": null,
   "id": "1754164b",
   "metadata": {},
   "outputs": [],
   "source": []
  }
 ],
 "metadata": {
  "kernelspec": {
   "display_name": "venv",
   "language": "python",
   "name": "python3"
  },
  "language_info": {
   "codemirror_mode": {
    "name": "ipython",
    "version": 3
   },
   "file_extension": ".py",
   "mimetype": "text/x-python",
   "name": "python",
   "nbconvert_exporter": "python",
   "pygments_lexer": "ipython3",
   "version": "3.11.9"
  }
 },
 "nbformat": 4,
 "nbformat_minor": 5
}
