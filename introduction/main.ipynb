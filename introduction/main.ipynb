{
 "cells": [
  {
   "cell_type": "code",
   "execution_count": 1,
   "id": "389fff39",
   "metadata": {},
   "outputs": [],
   "source": [
    "import pandas as pd\n",
    "import numpy as np\n"
   ]
  },
  {
   "cell_type": "markdown",
   "id": "559f7fb0",
   "metadata": {},
   "source": [
    "# Numpy Arrays and Matrixes"
   ]
  },
  {
   "cell_type": "code",
   "execution_count": 7,
   "id": "c07a1ed2",
   "metadata": {},
   "outputs": [],
   "source": [
    "# numpy dizileri\n",
    "arr = np.array([1,2,3,4])\n",
    "arr2 = np.array([0,5,4,3])\n"
   ]
  },
  {
   "cell_type": "code",
   "execution_count": 10,
   "id": "987202f4",
   "metadata": {},
   "outputs": [
    {
     "name": "stdout",
     "output_type": "stream",
     "text": [
      "[-1  3  1 -1] \n",
      " [1 7 7 7] \n",
      " [0.         2.5        1.33333333 0.75      ] \n",
      " [ 0 10 12 12]\n"
     ]
    }
   ],
   "source": [
    "sub = arr2 - arr\n",
    "sum = arr2 + arr\n",
    "div = arr2 / arr\n",
    "mult = arr2 * arr\n",
    "\n",
    "print(sub, \"\\n\", sum, \"\\n\", div, \"\\n\", mult)"
   ]
  },
  {
   "cell_type": "code",
   "execution_count": 12,
   "id": "4aef52fd",
   "metadata": {},
   "outputs": [],
   "source": [
    "m1 = np.random.random((3 ,3))\n",
    "m2 = np.random.random((3, 3))"
   ]
  },
  {
   "cell_type": "code",
   "execution_count": 19,
   "id": "97fa1562",
   "metadata": {},
   "outputs": [],
   "source": [
    "# matrix multiplication\n",
    "# dot product\n",
    "\n",
    "dot_prod = m1.dot(m2)\n",
    "dot_prod_2 = m2.dot(m1)"
   ]
  },
  {
   "cell_type": "code",
   "execution_count": null,
   "id": "4dea0221",
   "metadata": {},
   "outputs": [
    {
     "data": {
      "text/plain": [
       "array([[0.53118715, 1.15952716, 0.77788846],\n",
       "       [0.41474729, 1.68648329, 1.21233085],\n",
       "       [0.35110908, 1.22111991, 0.90912331]])"
      ]
     },
     "execution_count": 18,
     "metadata": {},
     "output_type": "execute_result"
    }
   ],
   "source": [
    "dot_prod"
   ]
  },
  {
   "cell_type": "code",
   "execution_count": 20,
   "id": "297a0ccf",
   "metadata": {},
   "outputs": [
    {
     "data": {
      "text/plain": [
       "array([[0.94537505, 1.40207491, 0.41576023],\n",
       "       [0.9836871 , 1.57382955, 0.48579545],\n",
       "       [0.73460481, 1.35106197, 0.60758915]])"
      ]
     },
     "execution_count": 20,
     "metadata": {},
     "output_type": "execute_result"
    }
   ],
   "source": [
    "dot_prod_2"
   ]
  },
  {
   "cell_type": "markdown",
   "id": "62493ed2",
   "metadata": {},
   "source": [
    "# Numpy Operations"
   ]
  },
  {
   "cell_type": "code",
   "execution_count": 23,
   "id": "ff9a4aec",
   "metadata": {},
   "outputs": [
    {
     "data": {
      "text/plain": [
       "array([73, 99, 72, 61, 40, 66, 27, 45, 65, 73, 61, 99, 41, 53])"
      ]
     },
     "execution_count": 23,
     "metadata": {},
     "output_type": "execute_result"
    }
   ],
   "source": [
    "arr = np.random.randint(1, 100, 20)\n",
    "new_arr = arr[arr > 25]\n",
    "new_arr"
   ]
  },
  {
   "cell_type": "code",
   "execution_count": 28,
   "id": "faeaa33c",
   "metadata": {},
   "outputs": [
    {
     "data": {
      "text/plain": [
       "array([[10, 20],\n",
       "       [30, 40],\n",
       "       [50, 60]])"
      ]
     },
     "execution_count": 28,
     "metadata": {},
     "output_type": "execute_result"
    }
   ],
   "source": [
    "m3 = np.array([[10, 20], [30, 40], [50, 60]])\n",
    "m3"
   ]
  },
  {
   "cell_type": "code",
   "execution_count": 29,
   "id": "b66fd0f9",
   "metadata": {},
   "outputs": [
    {
     "data": {
      "text/plain": [
       "array([[10, 30, 50],\n",
       "       [20, 40, 60]])"
      ]
     },
     "execution_count": 29,
     "metadata": {},
     "output_type": "execute_result"
    }
   ],
   "source": [
    "m3.transpose() # or m3.T"
   ]
  },
  {
   "cell_type": "code",
   "execution_count": 33,
   "id": "00f50ae3",
   "metadata": {},
   "outputs": [
    {
     "data": {
      "text/plain": [
       "array([[0.75594442],\n",
       "       [0.35472867],\n",
       "       [0.88407931],\n",
       "       [0.45044835],\n",
       "       [0.4581887 ],\n",
       "       [0.25637878]])"
      ]
     },
     "execution_count": 33,
     "metadata": {},
     "output_type": "execute_result"
    }
   ],
   "source": [
    "rand_arr = np.random.random((6, 1))\n",
    "rand_arr"
   ]
  },
  {
   "cell_type": "code",
   "execution_count": 32,
   "id": "2e8b5384",
   "metadata": {},
   "outputs": [
    {
     "data": {
      "text/plain": [
       "array([[0.89472588, 0.99394726],\n",
       "       [0.64000776, 0.64977065],\n",
       "       [0.72290922, 0.68550915]])"
      ]
     },
     "execution_count": 32,
     "metadata": {},
     "output_type": "execute_result"
    }
   ],
   "source": [
    "reshaped_arr = rand_arr.reshape(3, 2)\n",
    "reshaped_arr"
   ]
  },
  {
   "cell_type": "markdown",
   "id": "d78d7300",
   "metadata": {},
   "source": [
    "# Pandas "
   ]
  },
  {
   "cell_type": "code",
   "execution_count": null,
   "id": "b856cfba",
   "metadata": {},
   "outputs": [],
   "source": []
  }
 ],
 "metadata": {
  "kernelspec": {
   "display_name": "venv",
   "language": "python",
   "name": "python3"
  },
  "language_info": {
   "codemirror_mode": {
    "name": "ipython",
    "version": 3
   },
   "file_extension": ".py",
   "mimetype": "text/x-python",
   "name": "python",
   "nbconvert_exporter": "python",
   "pygments_lexer": "ipython3",
   "version": "3.11.9"
  }
 },
 "nbformat": 4,
 "nbformat_minor": 5
}
